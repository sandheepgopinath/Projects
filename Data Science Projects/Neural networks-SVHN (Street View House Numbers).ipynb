{
 "cells": [
  {
   "cell_type": "code",
   "execution_count": 40,
   "metadata": {},
   "outputs": [],
   "source": [
    "import numpy as np\n",
    "import h5py\n",
    "from sklearn.metrics import confusion_matrix,classification_report\n",
    "from keras.models import Sequential\n",
    "from keras.layers import Dense, Dropout, BatchNormalization,Reshape\n",
    "from keras import optimizers\n",
    "import tensorflow as tf\n",
    "tf.compat.v1.reset_default_graph()\n",
    "tf.compat.v1.set_random_seed(100)\n",
    "import matplotlib.pyplot as plt"
   ]
  },
  {
   "cell_type": "markdown",
   "metadata": {},
   "source": [
    "## Data fetching and understand the train/val/test splits. (10 points)"
   ]
  },
  {
   "cell_type": "markdown",
   "metadata": {},
   "source": [
    "### To import the .h5 file, we use the h5py library. "
   ]
  },
  {
   "cell_type": "code",
   "execution_count": 2,
   "metadata": {},
   "outputs": [],
   "source": [
    "data=h5py.File('SVHN_single_grey1.h5','r')"
   ]
  },
  {
   "cell_type": "markdown",
   "metadata": {},
   "source": [
    "### Splitting the data into Train, Test and Validation Sets\n"
   ]
  },
  {
   "cell_type": "code",
   "execution_count": 3,
   "metadata": {},
   "outputs": [],
   "source": [
    "trainX = data['X_train'][:]\n",
    "trainY = data['y_train'][:]\n",
    "testX = data['X_test'][:]\n",
    "testY = data['y_test'][:]\n",
    "valX = data['X_val'][:]\n",
    "valY = data['y_val'][:]"
   ]
  },
  {
   "cell_type": "markdown",
   "metadata": {},
   "source": [
    "### Testing the size of Training, Testing and Validation Datasets"
   ]
  },
  {
   "cell_type": "code",
   "execution_count": 4,
   "metadata": {},
   "outputs": [
    {
     "name": "stdout",
     "output_type": "stream",
     "text": [
      "Size of trainX is  (42000, 32, 32)  and trainY is  (42000,)\n",
      "Size of testX is  (18000, 32, 32)  and testY is  (18000,)\n",
      "Size of ValX is  (60000, 32, 32)  and ValY is  (60000,)\n"
     ]
    }
   ],
   "source": [
    "print('Size of trainX is ',trainX.shape,' and trainY is ', trainY.shape)\n",
    "print('Size of testX is ',testX.shape,' and testY is ', testY.shape)\n",
    "print('Size of ValX is ',valX.shape,' and ValY is ', valY.shape)"
   ]
  },
  {
   "cell_type": "markdown",
   "metadata": {},
   "source": [
    "#### Here we have the images of dimension 32x32x1. "
   ]
  },
  {
   "cell_type": "markdown",
   "metadata": {},
   "source": [
    "### Closing the file as we have already split the data into Train, Test and Validation Sets"
   ]
  },
  {
   "cell_type": "code",
   "execution_count": 5,
   "metadata": {},
   "outputs": [],
   "source": [
    "data.close()"
   ]
  },
  {
   "cell_type": "markdown",
   "metadata": {},
   "source": [
    "### Visulising how the data looks like"
   ]
  },
  {
   "cell_type": "code",
   "execution_count": 6,
   "metadata": {},
   "outputs": [
    {
     "data": {
      "text/plain": [
       "<Figure size 640x480 with 1 Axes>"
      ]
     },
     "metadata": {},
     "output_type": "display_data"
    }
   ],
   "source": [
    "import matplotlib.pyplot as plt\n",
    "\n",
    "plt.imshow(trainX[9])\n",
    "plt.show()"
   ]
  },
  {
   "cell_type": "markdown",
   "metadata": {},
   "source": [
    "### One Hot Encoding the Output columns\n"
   ]
  },
  {
   "cell_type": "code",
   "execution_count": 7,
   "metadata": {},
   "outputs": [],
   "source": [
    "trainY=tf.keras.utils.to_categorical(trainY)\n",
    "Ytest=tf.keras.utils.to_categorical(testY)\n",
    "valY=tf.keras.utils.to_categorical(valY)"
   ]
  },
  {
   "cell_type": "markdown",
   "metadata": {},
   "source": [
    "# Implement and apply a deep neural network classifier including (feedforward neural network, RELU, activations) (15 points)"
   ]
  },
  {
   "cell_type": "code",
   "execution_count": 8,
   "metadata": {},
   "outputs": [],
   "source": [
    "# Creating a model with Sequential ()\n",
    "tf.compat.v1.reset_default_graph()\n",
    "model=tf.keras.Sequential()\n",
    "\n",
    "#Creating a layer to reshape the input\n",
    "model.add(tf.keras.layers.Reshape((1024,),input_shape=(32,32,)))\n",
    "\n",
    "#Adding dense layers\n",
    "\n",
    "    \n",
    "model.add(tf.keras.layers.Dense(256,activation='relu'))\n",
    "model.add(tf.keras.layers.BatchNormalization())\n",
    "model.add(tf.keras.layers.Dense(128,activation='relu'))\n",
    "\n",
    "\n",
    "model.add(tf.keras.layers.Dense(10,activation='sigmoid'))\n"
   ]
  },
  {
   "cell_type": "markdown",
   "metadata": {},
   "source": [
    "### Adding a layer for calculating Loss"
   ]
  },
  {
   "cell_type": "code",
   "execution_count": 9,
   "metadata": {},
   "outputs": [
    {
     "name": "stdout",
     "output_type": "stream",
     "text": [
      "Model: \"sequential\"\n",
      "_________________________________________________________________\n",
      "Layer (type)                 Output Shape              Param #   \n",
      "=================================================================\n",
      "reshape (Reshape)            (None, 1024)              0         \n",
      "_________________________________________________________________\n",
      "dense (Dense)                (None, 256)               262400    \n",
      "_________________________________________________________________\n",
      "batch_normalization (BatchNo (None, 256)               1024      \n",
      "_________________________________________________________________\n",
      "dense_1 (Dense)              (None, 128)               32896     \n",
      "_________________________________________________________________\n",
      "dense_2 (Dense)              (None, 10)                1290      \n",
      "=================================================================\n",
      "Total params: 297,610\n",
      "Trainable params: 297,098\n",
      "Non-trainable params: 512\n",
      "_________________________________________________________________\n"
     ]
    }
   ],
   "source": [
    "model.compile(loss='mse',metrics=['accuracy'])\n",
    "\n",
    "model.summary()"
   ]
  },
  {
   "cell_type": "markdown",
   "metadata": {},
   "source": [
    "### Fitting the model on the data"
   ]
  },
  {
   "cell_type": "code",
   "execution_count": 10,
   "metadata": {
    "scrolled": true
   },
   "outputs": [
    {
     "name": "stdout",
     "output_type": "stream",
     "text": [
      "Train on 42000 samples, validate on 60000 samples\n",
      "Epoch 1/10\n",
      "42000/42000 [==============================] - 3s 71us/sample - loss: 0.0703 - accuracy: 0.4882 - val_loss: 0.0640 - val_accuracy: 0.5207\n",
      "Epoch 2/10\n",
      "42000/42000 [==============================] - 2s 55us/sample - loss: 0.0498 - accuracy: 0.6564 - val_loss: 0.0640 - val_accuracy: 0.5091\n",
      "Epoch 3/10\n",
      "42000/42000 [==============================] - 3s 61us/sample - loss: 0.0447 - accuracy: 0.6843 - val_loss: 0.0538 - val_accuracy: 0.6023\n",
      "Epoch 4/10\n",
      "42000/42000 [==============================] - 2s 59us/sample - loss: 0.0422 - accuracy: 0.7027 - val_loss: 0.0495 - val_accuracy: 0.6356\n",
      "Epoch 5/10\n",
      "42000/42000 [==============================] - 2s 52us/sample - loss: 0.0402 - accuracy: 0.7175 - val_loss: 0.0540 - val_accuracy: 0.6230\n",
      "Epoch 6/10\n",
      "42000/42000 [==============================] - 2s 52us/sample - loss: 0.0383 - accuracy: 0.7328 - val_loss: 0.0608 - val_accuracy: 0.5468\n",
      "Epoch 7/10\n",
      "42000/42000 [==============================] - 2s 54us/sample - loss: 0.0372 - accuracy: 0.7428 - val_loss: 0.0442 - val_accuracy: 0.6803\n",
      "Epoch 8/10\n",
      "42000/42000 [==============================] - 3s 65us/sample - loss: 0.0355 - accuracy: 0.7554 - val_loss: 0.0436 - val_accuracy: 0.6905\n",
      "Epoch 9/10\n",
      "42000/42000 [==============================] - 3s 66us/sample - loss: 0.0343 - accuracy: 0.7648 - val_loss: 0.0431 - val_accuracy: 0.6915\n",
      "Epoch 10/10\n",
      "42000/42000 [==============================] - 3s 66us/sample - loss: 0.0332 - accuracy: 0.7731 - val_loss: 0.0439 - val_accuracy: 0.6842\n"
     ]
    },
    {
     "data": {
      "text/plain": [
       "<tensorflow.python.keras.callbacks.History at 0x7f29342705f8>"
      ]
     },
     "execution_count": 10,
     "metadata": {},
     "output_type": "execute_result"
    }
   ],
   "source": [
    "model.fit(trainX,trainY,batch_size=100,epochs=10,validation_data=(valX,valY))"
   ]
  },
  {
   "cell_type": "markdown",
   "metadata": {},
   "source": [
    "### Testing the accuracy on Training Set"
   ]
  },
  {
   "cell_type": "code",
   "execution_count": 11,
   "metadata": {},
   "outputs": [
    {
     "name": "stdout",
     "output_type": "stream",
     "text": [
      "18000/18000 [==============================] - 1s 38us/sample - loss: 0.0447 - accuracy: 0.6804\n"
     ]
    },
    {
     "data": {
      "text/plain": [
       "0.68038887"
      ]
     },
     "execution_count": 11,
     "metadata": {},
     "output_type": "execute_result"
    }
   ],
   "source": [
    "model.evaluate(testX,Ytest)[1]"
   ]
  },
  {
   "cell_type": "markdown",
   "metadata": {},
   "source": [
    "### Confusion Matrix"
   ]
  },
  {
   "cell_type": "code",
   "execution_count": 12,
   "metadata": {},
   "outputs": [
    {
     "name": "stdout",
     "output_type": "stream",
     "text": [
      "[[1192   50   32   37   87   17  236   25   19  119]\n",
      " [  33 1387   26   62  140   19   37   61   13   50]\n",
      " [  11   64 1364   59   81   39   34   73   21   57]\n",
      " [  36   67   40 1006   58  278   70   34   94   36]\n",
      " [  28   42   45   50 1481   35   68   19   12   32]\n",
      " [  28   32   21  149   41 1211  196   28   28   34]\n",
      " [  86   29   20   42   91  104 1280   19  125   36]\n",
      " [  30  133  104   39   64   50   32 1276    5   75]\n",
      " [  40   50   38  127   57  100  457   25  828   90]\n",
      " [  36   64   33   79   65  122  116   21   46 1222]]\n"
     ]
    }
   ],
   "source": [
    "pred=model.predict_classes(testX)\n",
    "\n",
    "\n",
    "label=np.argmax(Ytest.T, axis=0)\n",
    "print(confusion_matrix(label,pred))\n"
   ]
  },
  {
   "cell_type": "markdown",
   "metadata": {},
   "source": [
    "### Classification Report"
   ]
  },
  {
   "cell_type": "code",
   "execution_count": 13,
   "metadata": {},
   "outputs": [
    {
     "name": "stdout",
     "output_type": "stream",
     "text": [
      "              precision    recall  f1-score   support\n",
      "\n",
      "           0       0.66      0.78      0.72      1520\n",
      "           1       0.76      0.72      0.74      1918\n",
      "           2       0.76      0.79      0.77      1723\n",
      "           3       0.59      0.61      0.60      1650\n",
      "           4       0.82      0.68      0.74      2165\n",
      "           5       0.68      0.61      0.65      1975\n",
      "           6       0.70      0.51      0.59      2526\n",
      "           7       0.71      0.81      0.75      1581\n",
      "           8       0.46      0.70      0.55      1191\n",
      "           9       0.68      0.70      0.69      1751\n",
      "\n",
      "   micro avg       0.68      0.68      0.68     18000\n",
      "   macro avg       0.68      0.69      0.68     18000\n",
      "weighted avg       0.69      0.68      0.68     18000\n",
      "\n"
     ]
    }
   ],
   "source": [
    "print(classification_report(pred, label))   \n"
   ]
  },
  {
   "cell_type": "markdown",
   "metadata": {},
   "source": [
    "\n",
    "# Understand and be able to implement (vectorised) backpropagation (cost stochastic gradient descent, cross entropy loss, cost functions) (15 points)"
   ]
  },
  {
   "cell_type": "code",
   "execution_count": 14,
   "metadata": {},
   "outputs": [],
   "source": [
    "# Creating a model with Sequential ()\n",
    "tf.compat.v1.reset_default_graph()\n",
    "model1=tf.keras.Sequential()\n",
    "\n",
    "#Creating a layer to reshape the input\n",
    "model1.add(tf.keras.layers.Reshape((1024,),input_shape=(32,32,)))\n",
    "\n",
    "#Adding dense layers\n",
    "\n",
    "    \n",
    "model1.add(tf.keras.layers.Dense(256,activation='relu'))\n",
    "model1.add(tf.keras.layers.BatchNormalization())\n",
    "model1.add(tf.keras.layers.Dense(128,activation='relu'))\n",
    "\n",
    "model1.add(tf.keras.layers.Dense(10,activation='sigmoid'))\n"
   ]
  },
  {
   "cell_type": "markdown",
   "metadata": {},
   "source": [
    "### Stochastic Gradient Descent Optimizer"
   ]
  },
  {
   "cell_type": "code",
   "execution_count": 15,
   "metadata": {},
   "outputs": [
    {
     "name": "stdout",
     "output_type": "stream",
     "text": [
      "Model: \"sequential\"\n",
      "_________________________________________________________________\n",
      "Layer (type)                 Output Shape              Param #   \n",
      "=================================================================\n",
      "reshape (Reshape)            (None, 1024)              0         \n",
      "_________________________________________________________________\n",
      "dense (Dense)                (None, 256)               262400    \n",
      "_________________________________________________________________\n",
      "batch_normalization (BatchNo (None, 256)               1024      \n",
      "_________________________________________________________________\n",
      "dense_1 (Dense)              (None, 128)               32896     \n",
      "_________________________________________________________________\n",
      "dense_2 (Dense)              (None, 10)                1290      \n",
      "=================================================================\n",
      "Total params: 297,610\n",
      "Trainable params: 297,098\n",
      "Non-trainable params: 512\n",
      "_________________________________________________________________\n"
     ]
    }
   ],
   "source": [
    "#HyperTuning the learning rate and decay\n",
    "sgd=tf.keras.optimizers.SGD(lr=0.03,decay=0)\n",
    "\n",
    "model1.compile(optimizer=sgd,loss='binary_crossentropy',metrics=['accuracy'])\n",
    "model1.summary()\n"
   ]
  },
  {
   "cell_type": "code",
   "execution_count": 16,
   "metadata": {},
   "outputs": [
    {
     "name": "stdout",
     "output_type": "stream",
     "text": [
      "Model: \"sequential\"\n",
      "_________________________________________________________________\n",
      "Layer (type)                 Output Shape              Param #   \n",
      "=================================================================\n",
      "reshape (Reshape)            (None, 1024)              0         \n",
      "_________________________________________________________________\n",
      "dense (Dense)                (None, 256)               262400    \n",
      "_________________________________________________________________\n",
      "batch_normalization (BatchNo (None, 256)               1024      \n",
      "_________________________________________________________________\n",
      "dense_1 (Dense)              (None, 128)               32896     \n",
      "_________________________________________________________________\n",
      "dense_2 (Dense)              (None, 10)                1290      \n",
      "=================================================================\n",
      "Total params: 297,610\n",
      "Trainable params: 297,098\n",
      "Non-trainable params: 512\n",
      "_________________________________________________________________\n"
     ]
    }
   ],
   "source": [
    "model1.compile(optimizer=sgd,loss='binary_crossentropy',metrics=['accuracy'])\n",
    "model1.summary()\n"
   ]
  },
  {
   "cell_type": "code",
   "execution_count": 17,
   "metadata": {
    "scrolled": true
   },
   "outputs": [
    {
     "name": "stdout",
     "output_type": "stream",
     "text": [
      "Train on 42000 samples, validate on 60000 samples\n",
      "Epoch 1/10\n",
      "42000/42000 [==============================] - 1s 29us/sample - loss: 0.6123 - accuracy: 0.6965 - val_loss: 0.4517 - val_accuracy: 0.8774\n",
      "Epoch 2/10\n",
      "42000/42000 [==============================] - 1s 24us/sample - loss: 0.4192 - accuracy: 0.8748 - val_loss: 0.4056 - val_accuracy: 0.8880\n",
      "Epoch 3/10\n",
      "42000/42000 [==============================] - 1s 25us/sample - loss: 0.3743 - accuracy: 0.8933 - val_loss: 0.3714 - val_accuracy: 0.8928\n",
      "Epoch 4/10\n",
      "42000/42000 [==============================] - 1s 24us/sample - loss: 0.3539 - accuracy: 0.8972 - val_loss: 0.3483 - val_accuracy: 0.8969\n",
      "Epoch 5/10\n",
      "42000/42000 [==============================] - 1s 24us/sample - loss: 0.3407 - accuracy: 0.8987 - val_loss: 0.3354 - val_accuracy: 0.8989\n",
      "Epoch 6/10\n",
      "42000/42000 [==============================] - 1s 25us/sample - loss: 0.3309 - accuracy: 0.8994 - val_loss: 0.3284 - val_accuracy: 0.8996\n",
      "Epoch 7/10\n",
      "42000/42000 [==============================] - 1s 24us/sample - loss: 0.3226 - accuracy: 0.8998 - val_loss: 0.3224 - val_accuracy: 0.8998\n",
      "Epoch 8/10\n",
      "42000/42000 [==============================] - 1s 24us/sample - loss: 0.3160 - accuracy: 0.9001 - val_loss: 0.3162 - val_accuracy: 0.9001\n",
      "Epoch 9/10\n",
      "42000/42000 [==============================] - 1s 24us/sample - loss: 0.3098 - accuracy: 0.9004 - val_loss: 0.3104 - val_accuracy: 0.9004\n",
      "Epoch 10/10\n",
      "42000/42000 [==============================] - 1s 24us/sample - loss: 0.3043 - accuracy: 0.9007 - val_loss: 0.3052 - val_accuracy: 0.9004\n"
     ]
    },
    {
     "data": {
      "text/plain": [
       "<tensorflow.python.keras.callbacks.History at 0x7f292c245f28>"
      ]
     },
     "execution_count": 17,
     "metadata": {},
     "output_type": "execute_result"
    }
   ],
   "source": [
    "model1.fit(trainX,trainY, batch_size = 1000, epochs = 10, verbose = 1,validation_data=(valX,valY))\n"
   ]
  },
  {
   "cell_type": "markdown",
   "metadata": {},
   "source": [
    "### Testing the accuracy on test Set"
   ]
  },
  {
   "cell_type": "code",
   "execution_count": 18,
   "metadata": {
    "scrolled": false
   },
   "outputs": [
    {
     "name": "stdout",
     "output_type": "stream",
     "text": [
      "18000/18000 [==============================] - 1s 45us/sample - loss: 0.3056 - accuracy: 0.9003\n"
     ]
    },
    {
     "data": {
      "text/plain": [
       "[0.30555301745732627, 0.9002766]"
      ]
     },
     "execution_count": 18,
     "metadata": {},
     "output_type": "execute_result"
    }
   ],
   "source": [
    "model1.evaluate(testX,Ytest)"
   ]
  },
  {
   "cell_type": "markdown",
   "metadata": {},
   "source": [
    "### There is a considerable increase in accuracy from 68.03% to 90.02% by adding Cost Functions and Gradient Descent Optimizer. \n"
   ]
  },
  {
   "cell_type": "markdown",
   "metadata": {},
   "source": [
    "### Confusion Matrix"
   ]
  },
  {
   "cell_type": "code",
   "execution_count": 19,
   "metadata": {},
   "outputs": [
    {
     "name": "stdout",
     "output_type": "stream",
     "text": [
      "[[ 618  190   28  155  113  107  200   98  142  163]\n",
      " [  67 1057   35  138  131   32   53  186   78   51]\n",
      " [ 113  303  352  230  113   66   80  315   99  132]\n",
      " [ 111  321   54  367  103   93  141  216  205  108]\n",
      " [  89  391   16  115  844   37  122   68   69   61]\n",
      " [ 170  250   30  242   95  156  296  155  181  193]\n",
      " [ 225  227   21  125  194  121  534   66  185  134]\n",
      " [  84  305   72  141   49   34   44  963   49   67]\n",
      " [ 183  265   26  164  177   78  279   77  381  182]\n",
      " [ 217  235   21  171  110   80   95  151  225  499]]\n"
     ]
    }
   ],
   "source": [
    "m1_pred=model1.predict_classes(testX)\n",
    "\n",
    "label=np.argmax(Ytest.T, axis=0)\n",
    "print(confusion_matrix(label,m1_pred))"
   ]
  },
  {
   "cell_type": "markdown",
   "metadata": {},
   "source": [
    "### Classification Report\n"
   ]
  },
  {
   "cell_type": "code",
   "execution_count": 20,
   "metadata": {},
   "outputs": [
    {
     "name": "stdout",
     "output_type": "stream",
     "text": [
      "              precision    recall  f1-score   support\n",
      "\n",
      "           0       0.34      0.33      0.33      1877\n",
      "           1       0.58      0.30      0.39      3544\n",
      "           2       0.20      0.54      0.29       655\n",
      "           3       0.21      0.20      0.21      1848\n",
      "           4       0.47      0.44      0.45      1929\n",
      "           5       0.09      0.19      0.12       804\n",
      "           6       0.29      0.29      0.29      1844\n",
      "           7       0.53      0.42      0.47      2295\n",
      "           8       0.21      0.24      0.22      1614\n",
      "           9       0.28      0.31      0.29      1590\n",
      "\n",
      "   micro avg       0.32      0.32      0.32     18000\n",
      "   macro avg       0.32      0.33      0.31     18000\n",
      "weighted avg       0.37      0.32      0.33     18000\n",
      "\n"
     ]
    }
   ],
   "source": [
    "print(classification_report(m1_pred,label))"
   ]
  },
  {
   "cell_type": "markdown",
   "metadata": {},
   "source": [
    "# Implement batch normalization for training the neural network (10points)"
   ]
  },
  {
   "cell_type": "code",
   "execution_count": 21,
   "metadata": {},
   "outputs": [],
   "source": [
    "tf.compat.v1.reset_default_graph()\n",
    "\n",
    "model2=tf.keras.Sequential()\n",
    "#model2.add(tf.keras.layers.BatchNormalization())\n",
    "\n",
    "#Creating a layer to reshape the input\n",
    "model2.add(tf.keras.layers.Reshape((1024,),input_shape=(32,32,)))\n",
    "\n",
    "#Adding dense layers\n",
    "\n",
    "    \n",
    "model2.add(tf.keras.layers.Dense(256,activation='relu'))\n",
    "model2.add(tf.keras.layers.BatchNormalization())\n",
    "model2.add(tf.keras.layers.Dropout(0.3))\n",
    "model2.add(tf.keras.layers.Dense(128,activation='relu'))\n",
    "model2.add(tf.keras.layers.BatchNormalization())\n",
    "model2.add(tf.keras.layers.Dropout(0.5))\n",
    "model2.add(tf.keras.layers.Dense(10,activation='sigmoid'))\n",
    "\n",
    "\n"
   ]
  },
  {
   "cell_type": "markdown",
   "metadata": {},
   "source": [
    "### Adding the Optimization Layer"
   ]
  },
  {
   "cell_type": "code",
   "execution_count": 22,
   "metadata": {},
   "outputs": [],
   "source": [
    "#HyperTuning the learning rate and decay\n",
    "sgd=tf.keras.optimizers.SGD(lr=0.03,decay=0)\n",
    "\n",
    "model2.compile(optimizer=sgd,loss='binary_crossentropy',metrics=['accuracy'])\n"
   ]
  },
  {
   "cell_type": "code",
   "execution_count": 23,
   "metadata": {},
   "outputs": [
    {
     "name": "stdout",
     "output_type": "stream",
     "text": [
      "Model: \"sequential\"\n",
      "_________________________________________________________________\n",
      "Layer (type)                 Output Shape              Param #   \n",
      "=================================================================\n",
      "reshape (Reshape)            (None, 1024)              0         \n",
      "_________________________________________________________________\n",
      "dense (Dense)                (None, 256)               262400    \n",
      "_________________________________________________________________\n",
      "batch_normalization (BatchNo (None, 256)               1024      \n",
      "_________________________________________________________________\n",
      "dropout (Dropout)            (None, 256)               0         \n",
      "_________________________________________________________________\n",
      "dense_1 (Dense)              (None, 128)               32896     \n",
      "_________________________________________________________________\n",
      "batch_normalization_1 (Batch (None, 128)               512       \n",
      "_________________________________________________________________\n",
      "dropout_1 (Dropout)          (None, 128)               0         \n",
      "_________________________________________________________________\n",
      "dense_2 (Dense)              (None, 10)                1290      \n",
      "=================================================================\n",
      "Total params: 298,122\n",
      "Trainable params: 297,354\n",
      "Non-trainable params: 768\n",
      "_________________________________________________________________\n"
     ]
    }
   ],
   "source": [
    "model2.summary()"
   ]
  },
  {
   "cell_type": "markdown",
   "metadata": {},
   "source": [
    "### Fitting the model on train data and testing on Validation Data"
   ]
  },
  {
   "cell_type": "code",
   "execution_count": 24,
   "metadata": {},
   "outputs": [
    {
     "name": "stdout",
     "output_type": "stream",
     "text": [
      "Train on 42000 samples, validate on 60000 samples\n",
      "Epoch 1/10\n",
      "42000/42000 [==============================] - 3s 70us/sample - loss: 0.6928 - accuracy: 0.6611 - val_loss: 0.3768 - val_accuracy: 0.8923\n",
      "Epoch 2/10\n",
      "42000/42000 [==============================] - 3s 62us/sample - loss: 0.4126 - accuracy: 0.8539 - val_loss: 0.3100 - val_accuracy: 0.8999\n",
      "Epoch 3/10\n",
      "42000/42000 [==============================] - 3s 63us/sample - loss: 0.3551 - accuracy: 0.8859 - val_loss: 0.2938 - val_accuracy: 0.9004\n",
      "Epoch 4/10\n",
      "42000/42000 [==============================] - 3s 68us/sample - loss: 0.3328 - accuracy: 0.8926 - val_loss: 0.2793 - val_accuracy: 0.9019\n",
      "Epoch 5/10\n",
      "42000/42000 [==============================] - 3s 76us/sample - loss: 0.3168 - accuracy: 0.8956 - val_loss: 0.2647 - val_accuracy: 0.9040\n",
      "Epoch 6/10\n",
      "42000/42000 [==============================] - 3s 70us/sample - loss: 0.3035 - accuracy: 0.8984 - val_loss: 0.2522 - val_accuracy: 0.9068\n",
      "Epoch 7/10\n",
      "42000/42000 [==============================] - 3s 61us/sample - loss: 0.2917 - accuracy: 0.9005 - val_loss: 0.2450 - val_accuracy: 0.9081\n",
      "Epoch 8/10\n",
      "42000/42000 [==============================] - 3s 69us/sample - loss: 0.2824 - accuracy: 0.9025 - val_loss: 0.2371 - val_accuracy: 0.9108\n",
      "Epoch 9/10\n",
      "42000/42000 [==============================] - 3s 70us/sample - loss: 0.2752 - accuracy: 0.9043 - val_loss: 0.2289 - val_accuracy: 0.9135\n",
      "Epoch 10/10\n",
      "42000/42000 [==============================] - 3s 67us/sample - loss: 0.2678 - accuracy: 0.9062 - val_loss: 0.2243 - val_accuracy: 0.9160\n"
     ]
    },
    {
     "data": {
      "text/plain": [
       "<tensorflow.python.keras.callbacks.History at 0x7f2900769978>"
      ]
     },
     "execution_count": 24,
     "metadata": {},
     "output_type": "execute_result"
    }
   ],
   "source": [
    "model2.fit(trainX,trainY,batch_size=100,epochs=10,validation_data=(valX,valY))"
   ]
  },
  {
   "cell_type": "markdown",
   "metadata": {},
   "source": [
    "### Evaluating the performance on Test Data"
   ]
  },
  {
   "cell_type": "code",
   "execution_count": 25,
   "metadata": {
    "scrolled": true
   },
   "outputs": [
    {
     "name": "stdout",
     "output_type": "stream",
     "text": [
      "18000/18000 [==============================] - 1s 40us/sample - loss: 0.2266 - accuracy: 0.9162\n"
     ]
    },
    {
     "data": {
      "text/plain": [
       "[0.22660419596566095, 0.9161725]"
      ]
     },
     "execution_count": 25,
     "metadata": {},
     "output_type": "execute_result"
    }
   ],
   "source": [
    "model2.evaluate(testX,Ytest)"
   ]
  },
  {
   "cell_type": "markdown",
   "metadata": {},
   "source": [
    "### The model has performed better ( from 90.02% to 91.60%) with Batch Normalization and Drop Out layers added. "
   ]
  },
  {
   "cell_type": "markdown",
   "metadata": {},
   "source": [
    "### Confusion Matrix"
   ]
  },
  {
   "cell_type": "code",
   "execution_count": 26,
   "metadata": {},
   "outputs": [
    {
     "name": "stdout",
     "output_type": "stream",
     "text": [
      "[[1320   43   25   48   53   41   94   27   59  104]\n",
      " [  93 1234   32  110  114   72   30   64   36   43]\n",
      " [  84   81 1114  106   67   41   17  178   29   86]\n",
      " [  90   88   64 1118   52  158   19   66   30   34]\n",
      " [  73   72   21   36 1427   34   75   18   19   37]\n",
      " [ 102   49   22  192   57 1056  112   34   76   68]\n",
      " [ 211   49   17   39  162  102 1135   16   78   23]\n",
      " [  97   98   88   97   26   43   28 1273   14   44]\n",
      " [ 204   74   41   85  118  196  215   23  750  106]\n",
      " [ 301   85   33   88   61   92   32   40   43 1029]]\n"
     ]
    }
   ],
   "source": [
    "m2_pred=model2.predict_classes(testX)\n",
    "\n",
    "label=np.argmax(Ytest.T,axis=0)\n",
    "print(confusion_matrix(label,m2_pred))"
   ]
  },
  {
   "cell_type": "markdown",
   "metadata": {},
   "source": [
    "### Classification Report"
   ]
  },
  {
   "cell_type": "code",
   "execution_count": 27,
   "metadata": {},
   "outputs": [
    {
     "name": "stdout",
     "output_type": "stream",
     "text": [
      "              precision    recall  f1-score   support\n",
      "\n",
      "           0       0.73      0.51      0.60      2575\n",
      "           1       0.68      0.66      0.67      1873\n",
      "           2       0.62      0.76      0.68      1457\n",
      "           3       0.65      0.58      0.61      1919\n",
      "           4       0.79      0.67      0.72      2137\n",
      "           5       0.60      0.58      0.59      1835\n",
      "           6       0.62      0.65      0.63      1757\n",
      "           7       0.70      0.73      0.72      1739\n",
      "           8       0.41      0.66      0.51      1134\n",
      "           9       0.57      0.65      0.61      1574\n",
      "\n",
      "   micro avg       0.64      0.64      0.64     18000\n",
      "   macro avg       0.64      0.65      0.63     18000\n",
      "weighted avg       0.65      0.64      0.64     18000\n",
      "\n"
     ]
    }
   ],
   "source": [
    "print(classification_report(m2_pred,label))"
   ]
  },
  {
   "cell_type": "markdown",
   "metadata": {},
   "source": [
    "## Trying to improve the model by adding one more layer with Batch Normalisation and Dropouts"
   ]
  },
  {
   "cell_type": "code",
   "execution_count": 28,
   "metadata": {},
   "outputs": [],
   "source": [
    "tf.compat.v1.reset_default_graph()\n",
    "\n",
    "model3=tf.keras.Sequential()\n",
    "#model3.add(tf.keras.layers.BatchNormalization())\n",
    "\n",
    "#Creating a layer to reshape the input\n",
    "model3.add(tf.keras.layers.Reshape((1024,),input_shape=(32,32,)))\n",
    "\n",
    "#Adding dense layers\n",
    "\n",
    "    \n",
    "model3.add(tf.keras.layers.Dense(256,activation='relu'))\n",
    "model3.add(tf.keras.layers.BatchNormalization())\n",
    "model3.add(tf.keras.layers.Dropout(0.3))\n",
    "model3.add(tf.keras.layers.Dense(128,activation='relu'))\n",
    "model3.add(tf.keras.layers.BatchNormalization())\n",
    "model3.add(tf.keras.layers.Dense(64,activation='relu'))\n",
    "model3.add(tf.keras.layers.BatchNormalization())\n",
    "model3.add(tf.keras.layers.Dropout(0.5))\n",
    "model3.add(tf.keras.layers.Dense(10,activation='sigmoid'))\n"
   ]
  },
  {
   "cell_type": "markdown",
   "metadata": {},
   "source": [
    "### Adding the Optimization Layer"
   ]
  },
  {
   "cell_type": "code",
   "execution_count": 29,
   "metadata": {},
   "outputs": [],
   "source": [
    "#HyperTuning the learning rate and decay\n",
    "adam=tf.keras.optimizers.Adamax(lr=0.03,decay=0)\n",
    "\n",
    "model3.compile(optimizer=adam,loss='binary_crossentropy',metrics=['accuracy'])\n"
   ]
  },
  {
   "cell_type": "code",
   "execution_count": 30,
   "metadata": {},
   "outputs": [
    {
     "name": "stdout",
     "output_type": "stream",
     "text": [
      "Model: \"sequential\"\n",
      "_________________________________________________________________\n",
      "Layer (type)                 Output Shape              Param #   \n",
      "=================================================================\n",
      "reshape (Reshape)            (None, 1024)              0         \n",
      "_________________________________________________________________\n",
      "dense (Dense)                (None, 256)               262400    \n",
      "_________________________________________________________________\n",
      "batch_normalization (BatchNo (None, 256)               1024      \n",
      "_________________________________________________________________\n",
      "dropout (Dropout)            (None, 256)               0         \n",
      "_________________________________________________________________\n",
      "dense_1 (Dense)              (None, 128)               32896     \n",
      "_________________________________________________________________\n",
      "batch_normalization_1 (Batch (None, 128)               512       \n",
      "_________________________________________________________________\n",
      "dense_2 (Dense)              (None, 64)                8256      \n",
      "_________________________________________________________________\n",
      "batch_normalization_2 (Batch (None, 64)                256       \n",
      "_________________________________________________________________\n",
      "dropout_1 (Dropout)          (None, 64)                0         \n",
      "_________________________________________________________________\n",
      "dense_3 (Dense)              (None, 10)                650       \n",
      "=================================================================\n",
      "Total params: 305,994\n",
      "Trainable params: 305,098\n",
      "Non-trainable params: 896\n",
      "_________________________________________________________________\n"
     ]
    }
   ],
   "source": [
    "model3.summary()"
   ]
  },
  {
   "cell_type": "markdown",
   "metadata": {},
   "source": [
    "### Fitting the model on train data and testing on Validation Data. (Training for longer time as the model has higher accuracy)"
   ]
  },
  {
   "cell_type": "code",
   "execution_count": 32,
   "metadata": {},
   "outputs": [
    {
     "name": "stdout",
     "output_type": "stream",
     "text": [
      "Train on 42000 samples, validate on 60000 samples\n",
      "Epoch 1/100\n",
      "42000/42000 [==============================] - 2s 54us/sample - loss: 0.2366 - accuracy: 0.9135 - val_loss: 0.2330 - val_accuracy: 0.9164\n",
      "Epoch 2/100\n",
      "42000/42000 [==============================] - 2s 55us/sample - loss: 0.2188 - accuracy: 0.9218 - val_loss: 0.2360 - val_accuracy: 0.9200\n",
      "Epoch 3/100\n",
      "42000/42000 [==============================] - 2s 55us/sample - loss: 0.2095 - accuracy: 0.9258 - val_loss: 0.2016 - val_accuracy: 0.9303\n",
      "Epoch 4/100\n",
      "42000/42000 [==============================] - 2s 55us/sample - loss: 0.2024 - accuracy: 0.9290 - val_loss: 0.2228 - val_accuracy: 0.9223\n",
      "Epoch 5/100\n",
      "42000/42000 [==============================] - 2s 59us/sample - loss: 0.1991 - accuracy: 0.9299 - val_loss: 0.1736 - val_accuracy: 0.9402\n",
      "Epoch 6/100\n",
      "42000/42000 [==============================] - 3s 78us/sample - loss: 0.1977 - accuracy: 0.9310 - val_loss: 0.1828 - val_accuracy: 0.9367\n",
      "Epoch 7/100\n",
      "42000/42000 [==============================] - 3s 69us/sample - loss: 0.1952 - accuracy: 0.9315 - val_loss: 0.2063 - val_accuracy: 0.9273\n",
      "Epoch 8/100\n",
      "42000/42000 [==============================] - 3s 70us/sample - loss: 0.1917 - accuracy: 0.9333 - val_loss: 0.1664 - val_accuracy: 0.9425\n",
      "Epoch 9/100\n",
      "42000/42000 [==============================] - 3s 70us/sample - loss: 0.1884 - accuracy: 0.9342 - val_loss: 0.1700 - val_accuracy: 0.9421\n",
      "Epoch 10/100\n",
      "42000/42000 [==============================] - 3s 70us/sample - loss: 0.1851 - accuracy: 0.9354 - val_loss: 0.1942 - val_accuracy: 0.9325\n",
      "Epoch 11/100\n",
      "42000/42000 [==============================] - 3s 70us/sample - loss: 0.1838 - accuracy: 0.9360 - val_loss: 0.1512 - val_accuracy: 0.9495\n",
      "Epoch 12/100\n",
      "42000/42000 [==============================] - 3s 70us/sample - loss: 0.1796 - accuracy: 0.9377 - val_loss: 0.1667 - val_accuracy: 0.9434\n",
      "Epoch 13/100\n",
      "42000/42000 [==============================] - 3s 70us/sample - loss: 0.1760 - accuracy: 0.9392 - val_loss: 0.1764 - val_accuracy: 0.9385\n",
      "Epoch 14/100\n",
      "42000/42000 [==============================] - 3s 70us/sample - loss: 0.1748 - accuracy: 0.9396 - val_loss: 0.1548 - val_accuracy: 0.9473\n",
      "Epoch 15/100\n",
      "42000/42000 [==============================] - 3s 70us/sample - loss: 0.1734 - accuracy: 0.9402 - val_loss: 0.1480 - val_accuracy: 0.9503\n",
      "Epoch 16/100\n",
      "42000/42000 [==============================] - 3s 70us/sample - loss: 0.1714 - accuracy: 0.9408 - val_loss: 0.1618 - val_accuracy: 0.9442\n",
      "Epoch 17/100\n",
      "42000/42000 [==============================] - 3s 71us/sample - loss: 0.1715 - accuracy: 0.9408 - val_loss: 0.1491 - val_accuracy: 0.9497\n",
      "Epoch 18/100\n",
      "42000/42000 [==============================] - 3s 70us/sample - loss: 0.1737 - accuracy: 0.9396 - val_loss: 0.1575 - val_accuracy: 0.9466\n",
      "Epoch 19/100\n",
      "42000/42000 [==============================] - 3s 70us/sample - loss: 0.1718 - accuracy: 0.9407 - val_loss: 0.1607 - val_accuracy: 0.9456\n",
      "Epoch 20/100\n",
      "42000/42000 [==============================] - 3s 70us/sample - loss: 0.1698 - accuracy: 0.9412 - val_loss: 0.1367 - val_accuracy: 0.9549\n",
      "Epoch 21/100\n",
      "42000/42000 [==============================] - 3s 70us/sample - loss: 0.1683 - accuracy: 0.9417 - val_loss: 0.1458 - val_accuracy: 0.9503\n",
      "Epoch 22/100\n",
      "42000/42000 [==============================] - 3s 70us/sample - loss: 0.1695 - accuracy: 0.9413 - val_loss: 0.1594 - val_accuracy: 0.9456\n",
      "Epoch 23/100\n",
      "42000/42000 [==============================] - 3s 70us/sample - loss: 0.1674 - accuracy: 0.9418 - val_loss: 0.1451 - val_accuracy: 0.9515\n",
      "Epoch 24/100\n",
      "42000/42000 [==============================] - 3s 70us/sample - loss: 0.1666 - accuracy: 0.9424 - val_loss: 0.1357 - val_accuracy: 0.9543\n",
      "Epoch 25/100\n",
      "42000/42000 [==============================] - 3s 71us/sample - loss: 0.1677 - accuracy: 0.9416 - val_loss: 0.1602 - val_accuracy: 0.9461\n",
      "Epoch 26/100\n",
      "42000/42000 [==============================] - 3s 75us/sample - loss: 0.1716 - accuracy: 0.9401 - val_loss: 0.1465 - val_accuracy: 0.9485\n",
      "Epoch 27/100\n",
      "42000/42000 [==============================] - 3s 71us/sample - loss: 0.1702 - accuracy: 0.9407 - val_loss: 0.1494 - val_accuracy: 0.9482\n",
      "Epoch 28/100\n",
      "42000/42000 [==============================] - 3s 70us/sample - loss: 0.1697 - accuracy: 0.9410 - val_loss: 0.1526 - val_accuracy: 0.9479\n",
      "Epoch 29/100\n",
      "42000/42000 [==============================] - 3s 70us/sample - loss: 0.1682 - accuracy: 0.9415 - val_loss: 0.1310 - val_accuracy: 0.9556\n",
      "Epoch 30/100\n",
      "42000/42000 [==============================] - 3s 70us/sample - loss: 0.1662 - accuracy: 0.9423 - val_loss: 0.1401 - val_accuracy: 0.9525\n",
      "Epoch 31/100\n",
      "42000/42000 [==============================] - 3s 71us/sample - loss: 0.1652 - accuracy: 0.9428 - val_loss: 0.1402 - val_accuracy: 0.9518\n",
      "Epoch 32/100\n",
      "42000/42000 [==============================] - 3s 71us/sample - loss: 0.1653 - accuracy: 0.9425 - val_loss: 0.1356 - val_accuracy: 0.9538\n",
      "Epoch 33/100\n",
      "42000/42000 [==============================] - 3s 71us/sample - loss: 0.1643 - accuracy: 0.9430 - val_loss: 0.1383 - val_accuracy: 0.9531\n",
      "Epoch 34/100\n",
      "42000/42000 [==============================] - 3s 71us/sample - loss: 0.1656 - accuracy: 0.9426 - val_loss: 0.1402 - val_accuracy: 0.9520\n",
      "Epoch 35/100\n",
      "42000/42000 [==============================] - 3s 71us/sample - loss: 0.1653 - accuracy: 0.9422 - val_loss: 0.1529 - val_accuracy: 0.9475\n",
      "Epoch 36/100\n",
      "42000/42000 [==============================] - 3s 79us/sample - loss: 0.1620 - accuracy: 0.9437 - val_loss: 0.1635 - val_accuracy: 0.9437\n",
      "Epoch 37/100\n",
      "42000/42000 [==============================] - 3s 69us/sample - loss: 0.1610 - accuracy: 0.9438 - val_loss: 0.1339 - val_accuracy: 0.9551\n",
      "Epoch 38/100\n",
      "42000/42000 [==============================] - 3s 69us/sample - loss: 0.1608 - accuracy: 0.9445 - val_loss: 0.1295 - val_accuracy: 0.9569\n",
      "Epoch 39/100\n",
      "42000/42000 [==============================] - 3s 69us/sample - loss: 0.1586 - accuracy: 0.9455 - val_loss: 0.1325 - val_accuracy: 0.9544\n",
      "Epoch 40/100\n",
      "42000/42000 [==============================] - 3s 69us/sample - loss: 0.1580 - accuracy: 0.9451 - val_loss: 0.1278 - val_accuracy: 0.9562\n",
      "Epoch 41/100\n",
      "42000/42000 [==============================] - 3s 69us/sample - loss: 0.1578 - accuracy: 0.9455 - val_loss: 0.1275 - val_accuracy: 0.9566\n",
      "Epoch 42/100\n",
      "42000/42000 [==============================] - 3s 69us/sample - loss: 0.1561 - accuracy: 0.9457 - val_loss: 0.1278 - val_accuracy: 0.9567\n",
      "Epoch 43/100\n",
      "42000/42000 [==============================] - 3s 69us/sample - loss: 0.1565 - accuracy: 0.9458 - val_loss: 0.1314 - val_accuracy: 0.9548\n",
      "Epoch 44/100\n",
      "42000/42000 [==============================] - 3s 69us/sample - loss: 0.1548 - accuracy: 0.9464 - val_loss: 0.1269 - val_accuracy: 0.9565\n",
      "Epoch 45/100\n",
      "42000/42000 [==============================] - 3s 69us/sample - loss: 0.1553 - accuracy: 0.9462 - val_loss: 0.1286 - val_accuracy: 0.9563\n",
      "Epoch 46/100\n",
      "42000/42000 [==============================] - 4s 84us/sample - loss: 0.1560 - accuracy: 0.9460 - val_loss: 0.1283 - val_accuracy: 0.9558\n",
      "Epoch 47/100\n",
      "42000/42000 [==============================] - 3s 71us/sample - loss: 0.1539 - accuracy: 0.9466 - val_loss: 0.1186 - val_accuracy: 0.9593\n",
      "Epoch 48/100\n",
      "42000/42000 [==============================] - 3s 70us/sample - loss: 0.1547 - accuracy: 0.9465 - val_loss: 0.1259 - val_accuracy: 0.9574\n",
      "Epoch 49/100\n",
      "42000/42000 [==============================] - 3s 75us/sample - loss: 0.1553 - accuracy: 0.9462 - val_loss: 0.1207 - val_accuracy: 0.9590\n",
      "Epoch 50/100\n",
      "42000/42000 [==============================] - 3s 70us/sample - loss: 0.1538 - accuracy: 0.9465 - val_loss: 0.1195 - val_accuracy: 0.9590\n",
      "Epoch 51/100\n",
      "42000/42000 [==============================] - 3s 71us/sample - loss: 0.1533 - accuracy: 0.9467 - val_loss: 0.1321 - val_accuracy: 0.9543\n",
      "Epoch 52/100\n",
      "42000/42000 [==============================] - 3s 70us/sample - loss: 0.1541 - accuracy: 0.9465 - val_loss: 0.1266 - val_accuracy: 0.9567\n",
      "Epoch 53/100\n",
      "42000/42000 [==============================] - 3s 69us/sample - loss: 0.1531 - accuracy: 0.9471 - val_loss: 0.1209 - val_accuracy: 0.9589\n",
      "Epoch 54/100\n",
      "42000/42000 [==============================] - 3s 69us/sample - loss: 0.1530 - accuracy: 0.9471 - val_loss: 0.1357 - val_accuracy: 0.9527\n"
     ]
    },
    {
     "name": "stdout",
     "output_type": "stream",
     "text": [
      "Epoch 55/100\n",
      "42000/42000 [==============================] - 3s 68us/sample - loss: 0.1527 - accuracy: 0.9473 - val_loss: 0.1246 - val_accuracy: 0.9569\n",
      "Epoch 56/100\n",
      "42000/42000 [==============================] - 3s 69us/sample - loss: 0.1518 - accuracy: 0.9473 - val_loss: 0.1311 - val_accuracy: 0.9550\n",
      "Epoch 57/100\n",
      "42000/42000 [==============================] - 3s 68us/sample - loss: 0.1521 - accuracy: 0.9474 - val_loss: 0.1217 - val_accuracy: 0.9582\n",
      "Epoch 58/100\n",
      "42000/42000 [==============================] - 3s 68us/sample - loss: 0.1529 - accuracy: 0.9469 - val_loss: 0.1298 - val_accuracy: 0.9557\n",
      "Epoch 59/100\n",
      "42000/42000 [==============================] - 3s 68us/sample - loss: 0.1513 - accuracy: 0.9474 - val_loss: 0.1164 - val_accuracy: 0.9605\n",
      "Epoch 60/100\n",
      "42000/42000 [==============================] - 3s 68us/sample - loss: 0.1498 - accuracy: 0.9482 - val_loss: 0.1162 - val_accuracy: 0.9604\n",
      "Epoch 61/100\n",
      "42000/42000 [==============================] - 3s 68us/sample - loss: 0.1499 - accuracy: 0.9481 - val_loss: 0.1258 - val_accuracy: 0.9567\n",
      "Epoch 62/100\n",
      "42000/42000 [==============================] - 3s 69us/sample - loss: 0.1497 - accuracy: 0.9482 - val_loss: 0.1306 - val_accuracy: 0.9553\n",
      "Epoch 63/100\n",
      "42000/42000 [==============================] - 3s 68us/sample - loss: 0.1483 - accuracy: 0.9487 - val_loss: 0.1272 - val_accuracy: 0.9568\n",
      "Epoch 64/100\n",
      "42000/42000 [==============================] - 3s 68us/sample - loss: 0.1489 - accuracy: 0.9486 - val_loss: 0.1191 - val_accuracy: 0.9592\n",
      "Epoch 65/100\n",
      "42000/42000 [==============================] - 3s 68us/sample - loss: 0.1494 - accuracy: 0.9478 - val_loss: 0.1245 - val_accuracy: 0.9571\n",
      "Epoch 66/100\n",
      "42000/42000 [==============================] - 3s 68us/sample - loss: 0.1490 - accuracy: 0.9485 - val_loss: 0.1238 - val_accuracy: 0.9578\n",
      "Epoch 67/100\n",
      "42000/42000 [==============================] - 3s 72us/sample - loss: 0.1494 - accuracy: 0.9481 - val_loss: 0.1197 - val_accuracy: 0.9587\n",
      "Epoch 68/100\n",
      "42000/42000 [==============================] - 3s 68us/sample - loss: 0.1488 - accuracy: 0.9483 - val_loss: 0.1234 - val_accuracy: 0.9581\n",
      "Epoch 69/100\n",
      "42000/42000 [==============================] - 3s 68us/sample - loss: 0.1490 - accuracy: 0.9487 - val_loss: 0.1192 - val_accuracy: 0.9593\n",
      "Epoch 70/100\n",
      "42000/42000 [==============================] - 3s 68us/sample - loss: 0.1475 - accuracy: 0.9490 - val_loss: 0.1123 - val_accuracy: 0.9621\n",
      "Epoch 71/100\n",
      "42000/42000 [==============================] - 3s 68us/sample - loss: 0.1487 - accuracy: 0.9485 - val_loss: 0.1212 - val_accuracy: 0.9581\n",
      "Epoch 72/100\n",
      "42000/42000 [==============================] - 3s 68us/sample - loss: 0.1472 - accuracy: 0.9491 - val_loss: 0.1133 - val_accuracy: 0.9613\n",
      "Epoch 73/100\n",
      "42000/42000 [==============================] - 3s 68us/sample - loss: 0.1463 - accuracy: 0.9493 - val_loss: 0.1106 - val_accuracy: 0.9622\n",
      "Epoch 74/100\n",
      "42000/42000 [==============================] - 3s 68us/sample - loss: 0.1471 - accuracy: 0.9493 - val_loss: 0.1171 - val_accuracy: 0.9600\n",
      "Epoch 75/100\n",
      "42000/42000 [==============================] - 3s 69us/sample - loss: 0.1473 - accuracy: 0.9492 - val_loss: 0.1152 - val_accuracy: 0.9604\n",
      "Epoch 76/100\n",
      "42000/42000 [==============================] - 3s 68us/sample - loss: 0.1470 - accuracy: 0.9492 - val_loss: 0.1178 - val_accuracy: 0.9596\n",
      "Epoch 77/100\n",
      "42000/42000 [==============================] - 3s 68us/sample - loss: 0.1471 - accuracy: 0.9489 - val_loss: 0.1177 - val_accuracy: 0.9602\n",
      "Epoch 78/100\n",
      "42000/42000 [==============================] - 3s 69us/sample - loss: 0.1467 - accuracy: 0.9493 - val_loss: 0.1142 - val_accuracy: 0.9614\n",
      "Epoch 79/100\n",
      "42000/42000 [==============================] - 3s 68us/sample - loss: 0.1468 - accuracy: 0.9490 - val_loss: 0.1148 - val_accuracy: 0.9610\n",
      "Epoch 80/100\n",
      "42000/42000 [==============================] - 3s 68us/sample - loss: 0.1465 - accuracy: 0.9492 - val_loss: 0.1164 - val_accuracy: 0.9602\n",
      "Epoch 81/100\n",
      "42000/42000 [==============================] - 3s 68us/sample - loss: 0.1465 - accuracy: 0.9490 - val_loss: 0.1109 - val_accuracy: 0.9628\n",
      "Epoch 82/100\n",
      "42000/42000 [==============================] - 3s 69us/sample - loss: 0.1463 - accuracy: 0.9491 - val_loss: 0.1164 - val_accuracy: 0.9596\n",
      "Epoch 83/100\n",
      "42000/42000 [==============================] - 3s 68us/sample - loss: 0.1454 - accuracy: 0.9493 - val_loss: 0.1114 - val_accuracy: 0.9621\n",
      "Epoch 84/100\n",
      "42000/42000 [==============================] - 3s 69us/sample - loss: 0.1455 - accuracy: 0.9495 - val_loss: 0.1239 - val_accuracy: 0.9575\n",
      "Epoch 85/100\n",
      "42000/42000 [==============================] - 3s 68us/sample - loss: 0.1455 - accuracy: 0.9495 - val_loss: 0.1113 - val_accuracy: 0.9627\n",
      "Epoch 86/100\n",
      "42000/42000 [==============================] - 3s 69us/sample - loss: 0.1456 - accuracy: 0.9497 - val_loss: 0.1145 - val_accuracy: 0.9614\n",
      "Epoch 87/100\n",
      "42000/42000 [==============================] - 3s 70us/sample - loss: 0.1449 - accuracy: 0.9500 - val_loss: 0.1120 - val_accuracy: 0.9623\n",
      "Epoch 88/100\n",
      "42000/42000 [==============================] - 3s 78us/sample - loss: 0.1449 - accuracy: 0.9498 - val_loss: 0.1161 - val_accuracy: 0.9601\n",
      "Epoch 89/100\n",
      "42000/42000 [==============================] - 3s 74us/sample - loss: 0.1465 - accuracy: 0.9492 - val_loss: 0.1139 - val_accuracy: 0.9613\n",
      "Epoch 90/100\n",
      "42000/42000 [==============================] - 3s 75us/sample - loss: 0.1457 - accuracy: 0.9495 - val_loss: 0.1240 - val_accuracy: 0.9573\n",
      "Epoch 91/100\n",
      "42000/42000 [==============================] - 3s 70us/sample - loss: 0.1444 - accuracy: 0.9499 - val_loss: 0.1118 - val_accuracy: 0.9622\n",
      "Epoch 92/100\n",
      "42000/42000 [==============================] - 3s 70us/sample - loss: 0.1450 - accuracy: 0.9499 - val_loss: 0.1131 - val_accuracy: 0.9611\n",
      "Epoch 93/100\n",
      "42000/42000 [==============================] - 3s 77us/sample - loss: 0.1450 - accuracy: 0.9497 - val_loss: 0.1056 - val_accuracy: 0.9641\n",
      "Epoch 94/100\n",
      "42000/42000 [==============================] - 3s 69us/sample - loss: 0.1440 - accuracy: 0.9502 - val_loss: 0.1095 - val_accuracy: 0.9623\n",
      "Epoch 95/100\n",
      "42000/42000 [==============================] - 3s 70us/sample - loss: 0.1450 - accuracy: 0.9498 - val_loss: 0.1050 - val_accuracy: 0.9643\n",
      "Epoch 96/100\n",
      "42000/42000 [==============================] - 3s 83us/sample - loss: 0.1436 - accuracy: 0.9506 - val_loss: 0.1100 - val_accuracy: 0.9625\n",
      "Epoch 97/100\n",
      "42000/42000 [==============================] - 3s 83us/sample - loss: 0.1448 - accuracy: 0.9499 - val_loss: 0.1108 - val_accuracy: 0.9617\n",
      "Epoch 98/100\n",
      "42000/42000 [==============================] - 3s 71us/sample - loss: 0.1446 - accuracy: 0.9502 - val_loss: 0.1058 - val_accuracy: 0.9631\n",
      "Epoch 99/100\n",
      "42000/42000 [==============================] - 4s 88us/sample - loss: 0.1443 - accuracy: 0.9501 - val_loss: 0.1053 - val_accuracy: 0.9639\n",
      "Epoch 100/100\n",
      "42000/42000 [==============================] - 3s 76us/sample - loss: 0.1432 - accuracy: 0.9506 - val_loss: 0.1047 - val_accuracy: 0.9641\n"
     ]
    },
    {
     "data": {
      "text/plain": [
       "<tensorflow.python.keras.callbacks.History at 0x7f28dc727a20>"
      ]
     },
     "execution_count": 32,
     "metadata": {},
     "output_type": "execute_result"
    }
   ],
   "source": [
    "model3.fit(trainX,trainY,batch_size=100,epochs=100,validation_data=(valX,valY))"
   ]
  },
  {
   "cell_type": "markdown",
   "metadata": {},
   "source": [
    "### Evaluating the performance on Test Data"
   ]
  },
  {
   "cell_type": "code",
   "execution_count": 33,
   "metadata": {
    "scrolled": true
   },
   "outputs": [
    {
     "name": "stdout",
     "output_type": "stream",
     "text": [
      "18000/18000 [==============================] - 1s 42us/sample - loss: 0.1154 - accuracy: 0.9624s - loss: 0.1104 - ac\n"
     ]
    },
    {
     "data": {
      "text/plain": [
       "[0.11535449461473359, 0.96239984]"
      ]
     },
     "execution_count": 33,
     "metadata": {},
     "output_type": "execute_result"
    }
   ],
   "source": [
    "model3.evaluate(testX,Ytest)"
   ]
  },
  {
   "cell_type": "markdown",
   "metadata": {},
   "source": [
    "## Here we have the highest accuracy of 96.23\n"
   ]
  },
  {
   "cell_type": "markdown",
   "metadata": {},
   "source": [
    "### Confusion Matrix"
   ]
  },
  {
   "cell_type": "code",
   "execution_count": 35,
   "metadata": {},
   "outputs": [
    {
     "name": "stdout",
     "output_type": "stream",
     "text": [
      "[[1526   42   22   28   32   29   42   18   28   47]\n",
      " [  48 1513   33   52   54   30   18   39   23   18]\n",
      " [  19   32 1477   40   30   30   14   77   35   49]\n",
      " [  26   34   41 1241   26  214   18   39   53   27]\n",
      " [  41   57   41   21 1487   37   58   10   18   42]\n",
      " [  21   12   18   84   18 1460   59   15   52   29]\n",
      " [  52   33   18   26   54  131 1404    8   91   15]\n",
      " [  35   68   98   36   20   35   18 1451   18   29]\n",
      " [  33   48   31   49   24  119   90   13 1338   67]\n",
      " [  76   34   30   42   25  112   20   22   68 1375]]\n"
     ]
    }
   ],
   "source": [
    "m3_pred=model3.predict_classes(testX)\n",
    "\n",
    "label=np.argmax(Ytest.T,axis=0)\n",
    "print(confusion_matrix(label,m3_pred))"
   ]
  },
  {
   "cell_type": "markdown",
   "metadata": {},
   "source": [
    "### Classification Report"
   ]
  },
  {
   "cell_type": "code",
   "execution_count": 38,
   "metadata": {},
   "outputs": [
    {
     "name": "stdout",
     "output_type": "stream",
     "text": [
      "              precision    recall  f1-score   support\n",
      "\n",
      "           0       0.84      0.81      0.83      1877\n",
      "           1       0.83      0.81      0.82      1873\n",
      "           2       0.82      0.82      0.82      1809\n",
      "           3       0.72      0.77      0.74      1619\n",
      "           4       0.82      0.84      0.83      1770\n",
      "           5       0.83      0.66      0.74      2197\n",
      "           6       0.77      0.81      0.79      1741\n",
      "           7       0.80      0.86      0.83      1692\n",
      "           8       0.74      0.78      0.76      1724\n",
      "           9       0.76      0.81      0.79      1698\n",
      "\n",
      "   micro avg       0.79      0.79      0.79     18000\n",
      "   macro avg       0.79      0.80      0.79     18000\n",
      "weighted avg       0.79      0.79      0.79     18000\n",
      "\n"
     ]
    }
   ],
   "source": [
    "print(classification_report(m3_pred,label))"
   ]
  },
  {
   "cell_type": "markdown",
   "metadata": {},
   "source": [
    "## Testing the result of predictions with actual images\n"
   ]
  },
  {
   "cell_type": "code",
   "execution_count": 52,
   "metadata": {},
   "outputs": [
    {
     "name": "stdout",
     "output_type": "stream",
     "text": [
      "0\n"
     ]
    },
    {
     "data": {
      "image/png": "[encoded data removed]",
      "text/plain": [
       "<Figure size 432x288 with 1 Axes>"
      ]
     },
     "metadata": {
      "needs_background": "light"
     },
     "output_type": "display_data"
    }
   ],
   "source": [
    "plt.imshow(testX[4])\n",
    "print(m3_pred[4])"
   ]
  },
  {
   "cell_type": "code",
   "execution_count": 49,
   "metadata": {},
   "outputs": [
    {
     "name": "stdout",
     "output_type": "stream",
     "text": [
      "9\n"
     ]
    },
    {
     "data": {
      "image/png": "[encoded data removed]",
      "text/plain": [
       "<Figure size 432x288 with 1 Axes>"
      ]
     },
     "metadata": {
      "needs_background": "light"
     },
     "output_type": "display_data"
    }
   ],
   "source": [
    "plt.imshow(testX[3])\n",
    "print(m3_pred[3])"
   ]
  },
  {
   "cell_type": "code",
   "execution_count": 54,
   "metadata": {},
   "outputs": [
    {
     "name": "stdout",
     "output_type": "stream",
     "text": [
      "0\n"
     ]
    },
    {
     "data": {
      "image/png": "[encoded data removed]",
      "text/plain": [
       "<Figure size 432x288 with 1 Axes>"
      ]
     },
     "metadata": {
      "needs_background": "light"
     },
     "output_type": "display_data"
    }
   ],
   "source": [
    "plt.imshow(testX[234])\n",
    "print(m3_pred[234])"
   ]
  },
  {
   "cell_type": "code",
   "execution_count": null,
   "metadata": {},
   "outputs": [],
   "source": []
  }
 ],
 "metadata": {
  "kernelspec": {
   "display_name": "Python 3",
   "language": "python",
   "name": "python3"
  },
  "language_info": {
   "codemirror_mode": {
    "name": "ipython",
    "version": 3
   },
   "file_extension": ".py",
   "mimetype": "text/x-python",
   "name": "python",
   "nbconvert_exporter": "python",
   "pygments_lexer": "ipython3",
   "version": "3.7.3"
  }
 },
 "nbformat": 4,
 "nbformat_minor": 2
}
